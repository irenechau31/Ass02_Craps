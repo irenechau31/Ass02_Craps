{
  "nbformat": 4,
  "nbformat_minor": 0,
  "metadata": {
    "colab": {
      "provenance": [],
      "authorship_tag": "ABX9TyPW6+xOVD6yLCfKjnX9snKG",
      "include_colab_link": true
    },
    "kernelspec": {
      "name": "python3",
      "display_name": "Python 3"
    },
    "language_info": {
      "name": "python"
    }
  },
  "cells": [
    {
      "cell_type": "markdown",
      "metadata": {
        "id": "view-in-github",
        "colab_type": "text"
      },
      "source": [
        "<a href=\"https://colab.research.google.com/github/irenechau31/Ass02_Craps/blob/master/Python_Numpy.ipynb\" target=\"_parent\"><img src=\"https://colab.research.google.com/assets/colab-badge.svg\" alt=\"Open In Colab\"/></a>"
      ]
    },
    {
      "cell_type": "code",
      "execution_count": 1,
      "metadata": {
        "id": "W633SmygFHqj"
      },
      "outputs": [],
      "source": [
        "#Numpy package for computing with arrays"
      ]
    },
    {
      "cell_type": "code",
      "source": [
        "import numpy as np"
      ],
      "metadata": {
        "id": "TN36ffQPFLue"
      },
      "execution_count": 3,
      "outputs": []
    },
    {
      "cell_type": "code",
      "source": [
        "data=np.random.randn(2,3)\n",
        "data"
      ],
      "metadata": {
        "colab": {
          "base_uri": "https://localhost:8080/"
        },
        "id": "bC0sLrFEGlOp",
        "outputId": "02958f42-a2e3-4d70-a030-4e6874305859"
      },
      "execution_count": 8,
      "outputs": [
        {
          "output_type": "execute_result",
          "data": {
            "text/plain": [
              "array([[-0.81253172, -1.2802145 ,  1.42926922],\n",
              "       [ 0.32229988,  1.89094216,  0.57636539]])"
            ]
          },
          "metadata": {},
          "execution_count": 8
        }
      ]
    },
    {
      "cell_type": "code",
      "source": [
        "data/2"
      ],
      "metadata": {
        "colab": {
          "base_uri": "https://localhost:8080/"
        },
        "id": "4MonID6DGxEj",
        "outputId": "b5413815-16de-42dc-d328-aa013e4095fe"
      },
      "execution_count": 9,
      "outputs": [
        {
          "output_type": "execute_result",
          "data": {
            "text/plain": [
              "array([[-0.40626586, -0.64010725,  0.71463461],\n",
              "       [ 0.16114994,  0.94547108,  0.2881827 ]])"
            ]
          },
          "metadata": {},
          "execution_count": 9
        }
      ]
    },
    {
      "cell_type": "markdown",
      "source": [
        "Ndarray stands for 'N-dimensional array'"
      ],
      "metadata": {
        "id": "DWZIb0e9FWcI"
      }
    },
    {
      "cell_type": "markdown",
      "source": [
        "Easy way to create an array is taking a sequance-like objects and passing it through the array function. NOTE: np.array as we imported numpy package as np"
      ],
      "metadata": {
        "id": "bNKZbIqTFkX9"
      }
    },
    {
      "cell_type": "code",
      "source": [
        "np.array([[1,2],[2,3],[5,6]], dtype=int)"
      ],
      "metadata": {
        "colab": {
          "base_uri": "https://localhost:8080/"
        },
        "id": "-f0NQb2cFWMM",
        "outputId": "32187ea3-702a-4e69-824b-3b5a9406fcf3"
      },
      "execution_count": 4,
      "outputs": [
        {
          "output_type": "execute_result",
          "data": {
            "text/plain": [
              "array([[1, 2],\n",
              "       [2, 3],\n",
              "       [5, 6]])"
            ]
          },
          "metadata": {},
          "execution_count": 4
        }
      ]
    },
    {
      "cell_type": "code",
      "source": [
        "np.array([[1,2],[2,3],[5,6]], dtype=float)"
      ],
      "metadata": {
        "colab": {
          "base_uri": "https://localhost:8080/"
        },
        "id": "1TsRowrFFQU-",
        "outputId": "2cb40ba7-9cfd-41b8-d6b1-fc359ba1f3e7"
      },
      "execution_count": 5,
      "outputs": [
        {
          "output_type": "execute_result",
          "data": {
            "text/plain": [
              "array([[1., 2.],\n",
              "       [2., 3.],\n",
              "       [5., 6.]])"
            ]
          },
          "metadata": {},
          "execution_count": 5
        }
      ]
    },
    {
      "cell_type": "markdown",
      "source": [
        "Shape and Dimension data.shape or data.dimension, (2,3) => 2x3 array"
      ],
      "metadata": {
        "id": "SdL2ENmMGV21"
      }
    },
    {
      "cell_type": "markdown",
      "source": [
        "the sahpe of every array is indicated by a tuple of each dimension"
      ],
      "metadata": {
        "id": "fV-jnWYgGaCl"
      }
    },
    {
      "cell_type": "code",
      "source": [
        "data.shape"
      ],
      "metadata": {
        "colab": {
          "base_uri": "https://localhost:8080/"
        },
        "id": "Nj5FpfnRGgWs",
        "outputId": "85dc3eee-bba2-46b2-bbdd-561767595b2c"
      },
      "execution_count": 10,
      "outputs": [
        {
          "output_type": "execute_result",
          "data": {
            "text/plain": [
              "(2, 3)"
            ]
          },
          "metadata": {},
          "execution_count": 10
        }
      ]
    },
    {
      "cell_type": "code",
      "source": [
        "data.ndim #data dimension"
      ],
      "metadata": {
        "colab": {
          "base_uri": "https://localhost:8080/"
        },
        "id": "bwhvZbUNG-XM",
        "outputId": "cc0dfccc-de17-488d-b75e-1672fab86290"
      },
      "execution_count": 12,
      "outputs": [
        {
          "output_type": "execute_result",
          "data": {
            "text/plain": [
              "2"
            ]
          },
          "metadata": {},
          "execution_count": 12
        }
      ]
    },
    {
      "cell_type": "markdown",
      "source": [
        "a sequence-like object is automatically converted into a 1-dimensional array"
      ],
      "metadata": {
        "id": "hWkd7gFfHZSz"
      }
    },
    {
      "cell_type": "code",
      "source": [
        "data1=range(25)\n",
        "arr1=np.array(data1)\n",
        "arr1"
      ],
      "metadata": {
        "colab": {
          "base_uri": "https://localhost:8080/"
        },
        "id": "Sx3Y8R1_G_H0",
        "outputId": "13c68d95-d1a2-4a6f-92ac-1c1d69a76e9d"
      },
      "execution_count": 13,
      "outputs": [
        {
          "output_type": "execute_result",
          "data": {
            "text/plain": [
              "array([ 0,  1,  2,  3,  4,  5,  6,  7,  8,  9, 10, 11, 12, 13, 14, 15, 16,\n",
              "       17, 18, 19, 20, 21, 22, 23, 24])"
            ]
          },
          "metadata": {},
          "execution_count": 13
        }
      ]
    },
    {
      "cell_type": "markdown",
      "source": [
        "Creating a 3-dimensional array"
      ],
      "metadata": {
        "id": "DLqXUtvEHmAE"
      }
    },
    {
      "cell_type": "code",
      "source": [
        "data3=[[[1,2], [1,2]],[[1,2],[1,2]]]\n",
        "arr3=np.array(data3)\n",
        "arr3"
      ],
      "metadata": {
        "colab": {
          "base_uri": "https://localhost:8080/"
        },
        "id": "cUqiSg71HPmP",
        "outputId": "4a25a2bc-0971-4622-b6db-b210874a678f"
      },
      "execution_count": 14,
      "outputs": [
        {
          "output_type": "execute_result",
          "data": {
            "text/plain": [
              "array([[[1, 2],\n",
              "        [1, 2]],\n",
              "\n",
              "       [[1, 2],\n",
              "        [1, 2]]])"
            ]
          },
          "metadata": {},
          "execution_count": 14
        }
      ]
    },
    {
      "cell_type": "code",
      "source": [
        "arr3.ndim"
      ],
      "metadata": {
        "colab": {
          "base_uri": "https://localhost:8080/"
        },
        "id": "9gVd70ynIFfX",
        "outputId": "13e39955-161f-4cc8-a4ad-d5eae0f674ee"
      },
      "execution_count": 17,
      "outputs": [
        {
          "output_type": "execute_result",
          "data": {
            "text/plain": [
              "3"
            ]
          },
          "metadata": {},
          "execution_count": 17
        }
      ]
    },
    {
      "cell_type": "code",
      "source": [
        "arr3.shape"
      ],
      "metadata": {
        "colab": {
          "base_uri": "https://localhost:8080/"
        },
        "id": "2niDHKLeISsE",
        "outputId": "6b1b6586-9c9f-4257-d5ec-c4617d6c77ad"
      },
      "execution_count": 18,
      "outputs": [
        {
          "output_type": "execute_result",
          "data": {
            "text/plain": [
              "(2, 2, 2)"
            ]
          },
          "metadata": {},
          "execution_count": 18
        }
      ]
    },
    {
      "cell_type": "markdown",
      "source": [
        "Create an array with NaNs"
      ],
      "metadata": {
        "id": "8lX8JWhiIW6l"
      }
    },
    {
      "cell_type": "markdown",
      "source": [
        "Check dtype of given array using array_name.dtype"
      ],
      "metadata": {
        "id": "vJRNB_NPIgJX"
      }
    },
    {
      "cell_type": "markdown",
      "source": [
        "Convert data type, using ASTYPE"
      ],
      "metadata": {
        "id": "r14K_4GMIoXm"
      }
    },
    {
      "cell_type": "code",
      "source": [
        "arr4=np.array([3.7, -1.2, -2.6, 0.5, 12.9, 10.1])"
      ],
      "metadata": {
        "id": "AglCz2zXITxv"
      },
      "execution_count": 19,
      "outputs": []
    },
    {
      "cell_type": "code",
      "source": [
        "arr4.dtype"
      ],
      "metadata": {
        "colab": {
          "base_uri": "https://localhost:8080/"
        },
        "id": "U-vd0_-JI3ly",
        "outputId": "9aa0a7d4-9681-4a04-dbf6-89d659efe840"
      },
      "execution_count": 20,
      "outputs": [
        {
          "output_type": "execute_result",
          "data": {
            "text/plain": [
              "dtype('float64')"
            ]
          },
          "metadata": {},
          "execution_count": 20
        }
      ]
    },
    {
      "cell_type": "code",
      "source": [
        "arr4.astype(np.int32) #convert float to integer"
      ],
      "metadata": {
        "colab": {
          "base_uri": "https://localhost:8080/"
        },
        "id": "hIiQ3kHpI7kk",
        "outputId": "d998e23e-60ae-43f5-8462-fb26059c0ead"
      },
      "execution_count": 21,
      "outputs": [
        {
          "output_type": "execute_result",
          "data": {
            "text/plain": [
              "array([ 3, -1, -2,  0, 12, 10], dtype=int32)"
            ]
          },
          "metadata": {},
          "execution_count": 21
        }
      ]
    },
    {
      "cell_type": "markdown",
      "source": [
        "Elementwise Computation"
      ],
      "metadata": {
        "id": "P1aJjd-gJJe2"
      }
    },
    {
      "cell_type": "code",
      "source": [
        "arr5=np.array([[1.,2.,3.],[4.,5.,6.]])\n",
        "arr5"
      ],
      "metadata": {
        "colab": {
          "base_uri": "https://localhost:8080/"
        },
        "id": "OlG8mnD5JMd_",
        "outputId": "65f2bfaa-3cae-402b-9fff-71c6c28a0393"
      },
      "execution_count": 23,
      "outputs": [
        {
          "output_type": "execute_result",
          "data": {
            "text/plain": [
              "array([[1., 2., 3.],\n",
              "       [4., 5., 6.]])"
            ]
          },
          "metadata": {},
          "execution_count": 23
        }
      ]
    },
    {
      "cell_type": "code",
      "source": [
        "arr5**2 #power of 2"
      ],
      "metadata": {
        "colab": {
          "base_uri": "https://localhost:8080/"
        },
        "id": "WazOASoVJVgp",
        "outputId": "a96f52a2-583a-45c9-9d9f-1356064bbbca"
      },
      "execution_count": 24,
      "outputs": [
        {
          "output_type": "execute_result",
          "data": {
            "text/plain": [
              "array([[ 1.,  4.,  9.],\n",
              "       [16., 25., 36.]])"
            ]
          },
          "metadata": {},
          "execution_count": 24
        }
      ]
    },
    {
      "cell_type": "code",
      "source": [
        "arr5/arr5"
      ],
      "metadata": {
        "colab": {
          "base_uri": "https://localhost:8080/"
        },
        "id": "64cjfRm-JXMB",
        "outputId": "867e2832-e994-4113-9505-940d953c3d73"
      },
      "execution_count": 25,
      "outputs": [
        {
          "output_type": "execute_result",
          "data": {
            "text/plain": [
              "array([[1., 1., 1.],\n",
              "       [1., 1., 1.]])"
            ]
          },
          "metadata": {},
          "execution_count": 25
        }
      ]
    },
    {
      "cell_type": "code",
      "source": [],
      "metadata": {
        "id": "ehZg5qwgJctt"
      },
      "execution_count": null,
      "outputs": []
    },
    {
      "cell_type": "markdown",
      "source": [
        "Indexing and Slicing"
      ],
      "metadata": {
        "id": "o-SCOU8YJfEN"
      }
    },
    {
      "cell_type": "code",
      "source": [
        "arr6=np.arange(11)\n",
        "arr6"
      ],
      "metadata": {
        "colab": {
          "base_uri": "https://localhost:8080/"
        },
        "id": "oLWB4qNsJhK2",
        "outputId": "12e5ae79-b835-4b8b-95c8-92a4c6fa18cd"
      },
      "execution_count": 36,
      "outputs": [
        {
          "output_type": "execute_result",
          "data": {
            "text/plain": [
              "array([ 0,  1,  2,  3,  4,  5,  6,  7,  8,  9, 10])"
            ]
          },
          "metadata": {},
          "execution_count": 36
        }
      ]
    },
    {
      "cell_type": "code",
      "source": [
        "arr6[7]"
      ],
      "metadata": {
        "colab": {
          "base_uri": "https://localhost:8080/"
        },
        "id": "djv6gtoGJkQy",
        "outputId": "fede2d43-5fd2-4fc8-a41c-6d81e21e5557"
      },
      "execution_count": 37,
      "outputs": [
        {
          "output_type": "execute_result",
          "data": {
            "text/plain": [
              "7"
            ]
          },
          "metadata": {},
          "execution_count": 37
        }
      ]
    },
    {
      "cell_type": "code",
      "source": [
        "arr6[-4:] #take four from the right"
      ],
      "metadata": {
        "colab": {
          "base_uri": "https://localhost:8080/"
        },
        "id": "UNs-Xf8gJxXP",
        "outputId": "53679c7f-634a-49e5-92f8-538a1d7e6d81"
      },
      "execution_count": 38,
      "outputs": [
        {
          "output_type": "execute_result",
          "data": {
            "text/plain": [
              "array([ 7,  8,  9, 10])"
            ]
          },
          "metadata": {},
          "execution_count": 38
        }
      ]
    },
    {
      "cell_type": "code",
      "source": [
        "arr6[-4:]=0 #take four from the right, make it to 0"
      ],
      "metadata": {
        "id": "cfhctE-RJzip"
      },
      "execution_count": 39,
      "outputs": []
    },
    {
      "cell_type": "code",
      "source": [
        "arr6"
      ],
      "metadata": {
        "colab": {
          "base_uri": "https://localhost:8080/"
        },
        "id": "yX_VtG4FKAdn",
        "outputId": "34456319-8dce-4896-c6e6-be5d335a60f3"
      },
      "execution_count": 40,
      "outputs": [
        {
          "output_type": "execute_result",
          "data": {
            "text/plain": [
              "array([0, 1, 2, 3, 4, 5, 6, 0, 0, 0, 0])"
            ]
          },
          "metadata": {},
          "execution_count": 40
        }
      ]
    },
    {
      "cell_type": "markdown",
      "source": [
        "Indexing for higher dimension"
      ],
      "metadata": {
        "id": "B-TnnEFxKHgw"
      }
    },
    {
      "cell_type": "code",
      "source": [
        "arr2D=np.array([[1,2,3], [4,5,6],[7,8,9]])\n",
        "arr2D"
      ],
      "metadata": {
        "colab": {
          "base_uri": "https://localhost:8080/"
        },
        "id": "VoFPWkHCKBFL",
        "outputId": "304276f6-8bc6-4a6c-9c9d-fba7c8cef0a1"
      },
      "execution_count": 42,
      "outputs": [
        {
          "output_type": "execute_result",
          "data": {
            "text/plain": [
              "array([[1, 2, 3],\n",
              "       [4, 5, 6],\n",
              "       [7, 8, 9]])"
            ]
          },
          "metadata": {},
          "execution_count": 42
        }
      ]
    },
    {
      "cell_type": "code",
      "source": [
        "arr2D[2]"
      ],
      "metadata": {
        "colab": {
          "base_uri": "https://localhost:8080/"
        },
        "id": "DcWVYGXhKTY7",
        "outputId": "6332b866-fa28-4174-edb9-5832345202bb"
      },
      "execution_count": 43,
      "outputs": [
        {
          "output_type": "execute_result",
          "data": {
            "text/plain": [
              "array([7, 8, 9])"
            ]
          },
          "metadata": {},
          "execution_count": 43
        }
      ]
    },
    {
      "cell_type": "code",
      "source": [
        "arr2D[2][1]"
      ],
      "metadata": {
        "colab": {
          "base_uri": "https://localhost:8080/"
        },
        "id": "_6jJgpjjKVw4",
        "outputId": "73dedadf-091f-40c4-c02e-09b719a4e464"
      },
      "execution_count": 44,
      "outputs": [
        {
          "output_type": "execute_result",
          "data": {
            "text/plain": [
              "8"
            ]
          },
          "metadata": {},
          "execution_count": 44
        }
      ]
    },
    {
      "cell_type": "code",
      "source": [
        "import numpy as np\n",
        "np.random.seed(10)\n",
        "data=np.random.randn(2,4,3)\n",
        "slice1=data[1,:,:].copy() #create a copy of the second matrix data[1,:,:]\n",
        "#the negative element should be changed to 0\n",
        "slice1[slice1<0]=0\n",
        "#Positive element should be squared\n",
        "slice1[slice1>0]=slice1[slice1>0]**2\n",
        "#Add the resulting matric to the first  matrix data[0,:,:]\n",
        "#=> Used .copy() to create a deep copy of the second matrix\n",
        "#to ensure that the original data is not modified.\n",
        "data[0,:,:]+=slice1 #update the first matrix with the results.\n",
        "print(data)"
      ],
      "metadata": {
        "colab": {
          "base_uri": "https://localhost:8080/"
        },
        "id": "BBLUXY9iKZY4",
        "outputId": "626fd2bc-f470-412f-98cf-9fbcf4f78025"
      },
      "execution_count": 61,
      "outputs": [
        {
          "output_type": "stream",
          "name": "stdout",
          "text": [
            "[[[ 1.33158650e+00  1.77262655e+00 -1.49312856e+00]\n",
            "  [ 1.89763644e-01  6.21335974e-01 -7.01823585e-01]\n",
            "  [ 2.46936170e+00  1.08548526e-01  4.29143093e-03]\n",
            "  [-1.74600211e-01  5.03819522e-01  6.89110654e+00]]\n",
            "\n",
            " [[-9.65065671e-01  1.02827408e+00  2.28630130e-01]\n",
            "  [ 4.45137613e-01 -1.13660221e+00  1.35136878e-01]\n",
            "  [ 1.48453700e+00 -1.07980489e+00 -1.97772828e+00]\n",
            "  [-1.74337230e+00  2.66070164e-01  2.38496733e+00]]]\n"
          ]
        }
      ]
    },
    {
      "cell_type": "code",
      "source": [],
      "metadata": {
        "id": "3gxR8Hl9MQyD"
      },
      "execution_count": null,
      "outputs": []
    }
  ]
}